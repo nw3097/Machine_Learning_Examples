{
 "cells": [
  {
   "cell_type": "markdown",
   "metadata": {},
   "source": [
    "**motivation**<br>\n",
    "Bootstrapping strikes me as getting something out of nothing. Given a training set, we can fit a learning algorithm on the training set directly, or we can repeatedly sample from the training set (with replacement), fit the algorithm on one sample at a time, then average the results across all samples. The second approach is not using any new information relative to the first, yet it may outperform the first in terms of test set error. In this notebook I want to see how this happens, in the context of decision trees with bagging."
   ]
  },
  {
   "cell_type": "code",
   "execution_count": 1,
   "metadata": {
    "collapsed": true
   },
   "outputs": [],
   "source": [
    "import math\n",
    "import numpy as np\n",
    "import matplotlib.pyplot as plt\n",
    "import matplotlib\n",
    "import pandas as pd\n",
    "import os\n",
    "from sklearn.tree import DecisionTreeRegressor\n",
    "from sklearn.tree import export_graphviz\n",
    "from IPython.display import Image\n",
    "from IPython.core.display import HTML"
   ]
  },
  {
   "cell_type": "code",
   "execution_count": 2,
   "metadata": {
    "collapsed": true
   },
   "outputs": [],
   "source": [
    "# create some points that satisfy a sine relationship\n",
    "P = 100\n",
    "x = np.linspace(-1, 1, num=P)\n",
    "y = np.sin(math.pi*x)"
   ]
  },
  {
   "cell_type": "code",
   "execution_count": 3,
   "metadata": {},
   "outputs": [
    {
     "data": {
      "image/png": "[encoded data removed]",
      "text/plain": [
       "<matplotlib.figure.Figure at 0x10e2623c8>"
      ]
     },
     "metadata": {},
     "output_type": "display_data"
    }
   ],
   "source": [
    "# plot these points\n",
    "plt.plot(x,y)\n",
    "plt.show()"
   ]
  },
  {
   "cell_type": "markdown",
   "metadata": {},
   "source": [
    "**1. one-off comparison between the first approach and the second approach**"
   ]
  },
  {
   "cell_type": "code",
   "execution_count": 4,
   "metadata": {},
   "outputs": [
    {
     "data": {
      "text/plain": [
       "(1.4817020020649645, 0.5863530411254183)"
      ]
     },
     "execution_count": 4,
     "metadata": {},
     "output_type": "execute_result"
    }
   ],
   "source": [
    "# set up train data and test data\n",
    "sample_size = 20\n",
    "sample = np.random.choice(list(range(100)), sample_size, replace = False).tolist()\n",
    "train_sample_size = int(0.8*sample_size)\n",
    "train_sample = np.random.choice(sample, int(0.8*sample_size), replace = False).tolist()\n",
    "test_sample = list(set(sample) - set(train_sample))\n",
    "train_x = x[train_sample]\n",
    "train_y = y[train_sample]\n",
    "train_data = pd.DataFrame()\n",
    "train_data['x'] = train_x\n",
    "train_data['y'] = train_y\n",
    "test_x = x[test_sample]\n",
    "test_y = y[test_sample]\n",
    "test_data = pd.DataFrame()\n",
    "test_data['x'] = test_x\n",
    "test_data['y'] = test_y\n",
    "\n",
    "# fit a decision tree on the train data directly, then calculate test set error\n",
    "regressor = DecisionTreeRegressor(random_state=0, max_depth=2)\n",
    "regressor.fit(train_data.drop(['y'], axis=1), train_data['y'])\n",
    "test_data['pred'] = regressor.predict(test_data[['x']])\n",
    "SSR = ((test_data['pred'] - test_data['y'])**2).sum()\n",
    "\n",
    "# from the train data, create N bootstrapped samples \n",
    "# train a tree on each one of them, average all predictions to get final prediction\n",
    "# the size of each bootstrapped sample is the same as train_sample_size, but the sampling is with replacement\n",
    "N = 10\n",
    "test_pred = np.zeros(test_data.shape[0])\n",
    "for i in range(N):\n",
    "    c = np.random.choice(train_sample, train_sample_size, replace = True) # bootstrapped sample\n",
    "    train_x = x[c]\n",
    "    train_y = y[c]\n",
    "    train_data = pd.DataFrame()\n",
    "    train_data['x'] = train_x\n",
    "    train_data['y'] = train_y\n",
    "    regressor = DecisionTreeRegressor(random_state=0, max_depth=2)\n",
    "    regressor.fit(train_data.drop(['y'], axis=1), train_data['y'])\n",
    "    test_pred = test_pred + regressor.predict(test_data[['x']])\n",
    "test_data['y'] = test_y\n",
    "test_data['pred'] = test_pred/N\n",
    "SSR_1 = ((test_data['pred'] - test_data['y'])**2).sum()\n",
    "SSR, SSR_1"
   ]
  },
  {
   "cell_type": "markdown",
   "metadata": {},
   "source": [
    "**2. repeated comparison between the first approach and the second approach**"
   ]
  },
  {
   "cell_type": "code",
   "execution_count": 5,
   "metadata": {},
   "outputs": [
    {
     "name": "stdout",
     "output_type": "stream",
     "text": [
      "0\n",
      "1000\n",
      "2000\n",
      "3000\n",
      "4000\n"
     ]
    }
   ],
   "source": [
    "# we might get lucky (or unlucky) in the one-off comparison above\n",
    "# repeat the one-off comparison 5000 times\n",
    "M = 5000\n",
    "N = 10\n",
    "sample_size = 20\n",
    "SSR = []\n",
    "SSR_1 = []\n",
    "for j in range(M):\n",
    "    if j%1000 == 0:\n",
    "        print(j)\n",
    "    train_sample_size = int(0.8*sample_size)\n",
    "    sample = np.random.choice(list(range(100)), sample_size, replace = False).tolist()\n",
    "    train_sample = np.random.choice(sample, int(0.8*sample_size), replace = False).tolist()\n",
    "    test_sample = list(set(sample) - set(train_sample))\n",
    "    train_x = x[train_sample]\n",
    "    train_y = y[train_sample]\n",
    "    train_data = pd.DataFrame()\n",
    "    train_data['x'] = train_x\n",
    "    train_data['y'] = train_y\n",
    "    test_x = x[test_sample]\n",
    "    test_y = y[test_sample]\n",
    "    test_data = pd.DataFrame()\n",
    "    test_data['x'] = test_x\n",
    "    test_data['y'] = test_y\n",
    "    \n",
    "    # fit a tree on train data\n",
    "    regressor = DecisionTreeRegressor(random_state=0, max_depth=2)\n",
    "    regressor.fit(train_data.drop(['y'], axis=1), train_data['y'])\n",
    "\n",
    "    # calculate test set error\n",
    "    test_data['pred'] = regressor.predict(test_data[['x']])\n",
    "    SSR.append(((test_data['pred'] - test_data['y'])**2).sum())    \n",
    "\n",
    "    # do bagging\n",
    "    test_pred = np.zeros(test_data.shape[0])\n",
    "    for i in range(N):\n",
    "        c = np.random.choice(train_sample, train_sample_size, replace = True) # bootstrapped sample\n",
    "        train_x = x[c]\n",
    "        train_y = y[c]\n",
    "        train_data = pd.DataFrame()\n",
    "        train_data['x'] = train_x\n",
    "        train_data['y'] = train_y\n",
    "        regressor = DecisionTreeRegressor(random_state=0, max_depth=2)\n",
    "        regressor.fit(train_data.drop(['y'], axis=1), train_data['y'])\n",
    "        test_pred = test_pred + regressor.predict(test_data[['x']])\n",
    "    test_data['y'] = test_y\n",
    "    test_data['pred'] = test_pred/N\n",
    "    SSR_1.append(((test_data['pred'] - test_data['y'])**2).sum())"
   ]
  },
  {
   "cell_type": "code",
   "execution_count": 6,
   "metadata": {},
   "outputs": [
    {
     "data": {
      "text/plain": [
       "(0.37504132700826626, 0.2713623618824676)"
      ]
     },
     "execution_count": 6,
     "metadata": {},
     "output_type": "execute_result"
    }
   ],
   "source": [
    "# compare the average errors\n",
    "sum(SSR)/len(SSR), sum(SSR_1)/len(SSR_1)"
   ]
  },
  {
   "cell_type": "code",
   "execution_count": 7,
   "metadata": {},
   "outputs": [
    {
     "data": {
      "image/png": "[encoded data removed]",
      "text/plain": [
       "<matplotlib.figure.Figure at 0x11f5ffeb8>"
      ]
     },
     "metadata": {},
     "output_type": "display_data"
    }
   ],
   "source": [
    "ssr = np.array(SSR)\n",
    "ssr_1 = np.array(SSR_1)\n",
    "plt.rcParams['figure.figsize'] = (20.0, 8.0)\n",
    "matplotlib.rc('xtick', labelsize=20)\n",
    "matplotlib.rc('ytick', labelsize=20)\n",
    "bins = 100\n",
    "plt.hist(ssr, bins=bins, alpha=0.5, color = 'r', normed=True, label='no bootstrapping')\n",
    "plt.hist(ssr_1, bins=bins, alpha=0.5, color = 'b', normed=True, label='bootstrapping')\n",
    "plt.legend(bbox_to_anchor=(1,0.5),loc='lower right',borderaxespad=0.,fontsize=20)\n",
    "plt.show()"
   ]
  },
  {
   "cell_type": "markdown",
   "metadata": {},
   "source": [
    "**discussion**<br>\n",
    "The above simulation suggests that bootstrapping is useful with trees. I suspect that it is not useful with linear regression. The difference between the two is linearity. If the model is linear, the average model from the bootstrapped training examples are going to be close to the model trained on the training set directly. Averaging adds little value. With trees, however, the average model from the bootstrapped training examples are not going to be close to the model trained on the training set directly. Averaging does make a difference. To get something out of nothing, non-linearity is necessary."
   ]
  }
 ],
 "metadata": {
  "kernelspec": {
   "display_name": "Python 3",
   "language": "python",
   "name": "python3"
  },
  "language_info": {
   "codemirror_mode": {
    "name": "ipython",
    "version": 3
   },
   "file_extension": ".py",
   "mimetype": "text/x-python",
   "name": "python",
   "nbconvert_exporter": "python",
   "pygments_lexer": "ipython3",
   "version": "3.5.2"
  }
 },
 "nbformat": 4,
 "nbformat_minor": 2
}
