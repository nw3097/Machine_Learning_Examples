{
 "cells": [
  {
   "cell_type": "markdown",
   "metadata": {},
   "source": [
    "To understand $AUC$, we need some ingredients: <br/> \n",
    "- True positive rate (recall): of all actual positives, how many are identified as such? <br/>\n",
    "- False positive rate: of all actual negatives, how many are identified as positives? <br/>\n",
    "- A prediction vector, in terms of probabilities <br/>\n",
    "- A corresponding label vector"
   ]
  },
  {
   "cell_type": "code",
   "execution_count": 1,
   "metadata": {
    "collapsed": true
   },
   "outputs": [],
   "source": [
    "import numpy as np\n",
    "from sklearn import metrics\n",
    "from sklearn.metrics import roc_curve, auc\n",
    "import matplotlib.pyplot as plt"
   ]
  },
  {
   "cell_type": "code",
   "execution_count": 2,
   "metadata": {
    "collapsed": true
   },
   "outputs": [],
   "source": [
    "# make up a label vector and a prediction vector\n",
    "label = np.array([0,0,1,0,1,1])\n",
    "prediction = np.array([0.1,0.8,0.3,0.4,0.5,0.6])"
   ]
  },
  {
   "cell_type": "code",
   "execution_count": 3,
   "metadata": {
    "collapsed": true
   },
   "outputs": [],
   "source": [
    "# feed the label vector and the prediction vector to the roc_curve function\n",
    "false_positive_rate, true_positive_rate, thresholds = roc_curve(label, prediction)"
   ]
  },
  {
   "cell_type": "markdown",
   "metadata": {},
   "source": [
    "**This is how to trace out the ROC curve:** from the prediction vector, select distinct probabilities, order them from large to small. Loop through the probabilities one at a time. At each step, say probability p, use p as the threshold such that for all probabilities higher than p, predict positive, and for all probabilities lower than p, predict negative. Then calculate fpr and tpr. Then plot the point in the (fpr, tpr) space. Move on to the next probability, repeat."
   ]
  },
  {
   "cell_type": "code",
   "execution_count": 4,
   "metadata": {},
   "outputs": [
    {
     "data": {
      "text/plain": [
       "array([1.8, 0.8, 0.5, 0.4, 0.3, 0.1])"
      ]
     },
     "execution_count": 4,
     "metadata": {},
     "output_type": "execute_result"
    }
   ],
   "source": [
    "thresholds"
   ]
  },
  {
   "cell_type": "code",
   "execution_count": 5,
   "metadata": {},
   "outputs": [
    {
     "data": {
      "image/png": "[encoded data removed]",
      "text/plain": [
       "<matplotlib.figure.Figure at 0x11ec06198>"
      ]
     },
     "metadata": {},
     "output_type": "display_data"
    }
   ],
   "source": [
    "# notice that 0.6 is not included in threshold, because the (fpr, tpr) corresponding to 0.6, which is (1/3, 1/3), \n",
    "# is on the vertical segment between (1/3, 0) and (1/3, 2/3). But for ease of understanding, we can imagine that\n",
    "# all distinct probabilities in the prediction vector are used as thresholds\n",
    "\n",
    "# the 6 points on this curve correspond to the 6 thresholds, as we move from lower left to upper right, we are lowering\n",
    "# the thresholds, catching more and more true positives, but risking more and more false positives along the way\n",
    "plt.plot(false_positive_rate, true_positive_rate, marker = 'o')\n",
    "plt.xlabel('false_positive_rate')\n",
    "plt.ylabel('true_positive_date')\n",
    "plt.show()"
   ]
  },
  {
   "cell_type": "code",
   "execution_count": 6,
   "metadata": {},
   "outputs": [
    {
     "data": {
      "text/plain": [
       "0.5555555555555556"
      ]
     },
     "execution_count": 6,
     "metadata": {},
     "output_type": "execute_result"
    }
   ],
   "source": [
    "auc = metrics.roc_auc_score(label, prediction)\n",
    "auc"
   ]
  },
  {
   "cell_type": "code",
   "execution_count": 7,
   "metadata": {},
   "outputs": [
    {
     "data": {
      "text/plain": [
       "array([0.        , 0.        , 0.66666667, 0.66666667, 1.        ,\n",
       "       1.        ])"
      ]
     },
     "execution_count": 7,
     "metadata": {},
     "output_type": "execute_result"
    }
   ],
   "source": [
    "true_positive_rate"
   ]
  },
  {
   "cell_type": "code",
   "execution_count": 8,
   "metadata": {},
   "outputs": [
    {
     "data": {
      "text/plain": [
       "array([0.        , 0.33333333, 0.33333333, 0.66666667, 0.66666667,\n",
       "       1.        ])"
      ]
     },
     "execution_count": 8,
     "metadata": {},
     "output_type": "execute_result"
    }
   ],
   "source": [
    "false_positive_rate"
   ]
  }
 ],
 "metadata": {
  "kernelspec": {
   "display_name": "Python 3",
   "language": "python",
   "name": "python3"
  },
  "language_info": {
   "codemirror_mode": {
    "name": "ipython",
    "version": 3
   },
   "file_extension": ".py",
   "mimetype": "text/x-python",
   "name": "python",
   "nbconvert_exporter": "python",
   "pygments_lexer": "ipython3",
   "version": "3.5.2"
  }
 },
 "nbformat": 4,
 "nbformat_minor": 2
}
